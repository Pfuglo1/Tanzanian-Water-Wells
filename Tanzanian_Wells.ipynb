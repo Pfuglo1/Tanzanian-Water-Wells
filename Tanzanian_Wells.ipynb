{
 "cells": [
  {
   "cell_type": "markdown",
   "id": "6c186c2d",
   "metadata": {},
   "source": [
    "# Tanzania Water Wells Classification Project\n",
    "\n",
    "## Business Understanding\n",
    "\n",
    "Tanzania faces a critical challenge in providing clean water to its 57+ million citizens. Many water wells are either non-functional or require repair, which hinders effective resource allocation and maintenance.\n",
    "\n",
    "**Stakeholders:**\n",
    "- **NGOs (e.g., WaterAid):** Can use the model to target repair work efficiently.\n",
    "- **Government Agencies:** Can use the insights to guide new infrastructure investments and policy decisions.\n",
    "\n",
    "**Project Objective:**\n",
    "Develop a predictive classifier that categorizes wells into three groups: *functional*, *needs repair*, and *non-functional*. This ternary classification task can later be engineered into a binary task if needed.\n",
    "\n",
    "**Value Proposition:**\n",
    "By accurately identifying wells that require repair, the model supports targeted resource allocation, improving water access and public health outcomes."
   ]
  },
  {
   "cell_type": "code",
   "execution_count": 1,
   "id": "d3c60e70",
   "metadata": {},
   "outputs": [],
   "source": [
    "# Import core libraries and set up the environment\n",
    "import pandas as pd\n",
    "import numpy as np\n",
    "import matplotlib.pyplot as plt\n",
    "import seaborn as sns\n",
    "from datetime import datetime\n",
    "\n",
    "# Machine learning libraries\n",
    "from sklearn.model_selection import train_test_split, RandomizedSearchCV, cross_val_score\n",
    "from sklearn.linear_model import LogisticRegression\n",
    "from sklearn.ensemble import RandomForestClassifier\n",
    "from sklearn.metrics import classification_report, confusion_matrix, log_loss\n",
    "from sklearn.impute import SimpleImputer\n",
    "from sklearn.preprocessing import StandardScaler, OneHotEncoder\n",
    "from sklearn.pipeline import Pipeline\n",
    "from sklearn.compose import ColumnTransformer\n",
    "\n",
    "sns.set(style=\"whitegrid\")\n",
    "%matplotlib inline\n",
    "\n",
    "# For reproducibility\n",
    "RANDOM_STATE = 42"
   ]
  },
  {
   "cell_type": "markdown",
   "id": "76b24062",
   "metadata": {},
   "source": [
    "## 1. Data Understanding\n",
    "\n",
    "We are given two main datasets:\n",
    "- **Features Dataset:** Contains detailed information about each water well (e.g., pump type, installation date, GPS coordinates, funder, etc.).\n",
    "- **Labels Dataset:** Contains the target variable (`status_group`), which indicates the condition of the well (e.g., *functional*, *non functional*, *functional needs repair*).\n",
    "\n",
    "Below, we load both datasets and review their dimensions and columns."
   ]
  },
  {
   "cell_type": "code",
   "execution_count": 2,
   "id": "a87d52b3",
   "metadata": {},
   "outputs": [
    {
     "name": "stdout",
     "output_type": "stream",
     "text": [
      "Features dataset shape: (59400, 40)\n",
      "Labels dataset shape: (59400, 2)\n",
      "\n",
      "Features columns: ['id', 'amount_tsh', 'date_recorded', 'funder', 'gps_height', 'installer', 'longitude', 'latitude', 'wpt_name', 'num_private', 'basin', 'subvillage', 'region', 'region_code', 'district_code', 'lga', 'ward', 'population', 'public_meeting', 'recorded_by', 'scheme_management', 'scheme_name', 'permit', 'construction_year', 'extraction_type', 'extraction_type_group', 'extraction_type_class', 'management', 'management_group', 'payment', 'payment_type', 'water_quality', 'quality_group', 'quantity', 'quantity_group', 'source', 'source_type', 'source_class', 'waterpoint_type', 'waterpoint_type_group']\n",
      "\n",
      "Labels columns: ['id', 'status_group']\n",
      "\n",
      "First five rows of features:\n",
      "      id  amount_tsh date_recorded        funder  gps_height     installer  \\\n",
      "0  69572      6000.0    2011-03-14         Roman        1390         Roman   \n",
      "1   8776         0.0    2013-03-06       Grumeti        1399       GRUMETI   \n",
      "2  34310        25.0    2013-02-25  Lottery Club         686  World vision   \n",
      "3  67743         0.0    2013-01-28        Unicef         263        UNICEF   \n",
      "4  19728         0.0    2011-07-13   Action In A           0       Artisan   \n",
      "\n",
      "   longitude   latitude              wpt_name  num_private  ... payment_type  \\\n",
      "0  34.938093  -9.856322                  none            0  ...     annually   \n",
      "1  34.698766  -2.147466              Zahanati            0  ...    never pay   \n",
      "2  37.460664  -3.821329           Kwa Mahundi            0  ...   per bucket   \n",
      "3  38.486161 -11.155298  Zahanati Ya Nanyumbu            0  ...    never pay   \n",
      "4  31.130847  -1.825359               Shuleni            0  ...    never pay   \n",
      "\n",
      "  water_quality quality_group      quantity  quantity_group  \\\n",
      "0          soft          good        enough          enough   \n",
      "1          soft          good  insufficient    insufficient   \n",
      "2          soft          good        enough          enough   \n",
      "3          soft          good           dry             dry   \n",
      "4          soft          good      seasonal        seasonal   \n",
      "\n",
      "                 source           source_type  source_class  \\\n",
      "0                spring                spring   groundwater   \n",
      "1  rainwater harvesting  rainwater harvesting       surface   \n",
      "2                   dam                   dam       surface   \n",
      "3           machine dbh              borehole   groundwater   \n",
      "4  rainwater harvesting  rainwater harvesting       surface   \n",
      "\n",
      "               waterpoint_type waterpoint_type_group  \n",
      "0           communal standpipe    communal standpipe  \n",
      "1           communal standpipe    communal standpipe  \n",
      "2  communal standpipe multiple    communal standpipe  \n",
      "3  communal standpipe multiple    communal standpipe  \n",
      "4           communal standpipe    communal standpipe  \n",
      "\n",
      "[5 rows x 40 columns]\n",
      "\n",
      "First five rows of labels:\n",
      "      id    status_group\n",
      "0  69572      functional\n",
      "1   8776      functional\n",
      "2  34310      functional\n",
      "3  67743  non functional\n",
      "4  19728      functional\n"
     ]
    }
   ],
   "source": [
    "# Define file paths\n",
    "features_path = './Data/Training_Set_Values.csv'\n",
    "labels_path   = './Data/Training_Set_Labels.csv'\n",
    "\n",
    "# Load the datasets\n",
    "features_df = pd.read_csv(features_path)\n",
    "labels_df   = pd.read_csv(labels_path)\n",
    "\n",
    "# Display dataset shapes and columns\n",
    "print(\"Features dataset shape:\", features_df.shape)\n",
    "print(\"Labels dataset shape:\", labels_df.shape)\n",
    "print(\"\\nFeatures columns:\", features_df.columns.tolist())\n",
    "print(\"\\nLabels columns:\", labels_df.columns.tolist())\n",
    "\n",
    "# Preview the data\n",
    "print(\"\\nFirst five rows of features:\")\n",
    "print(features_df.head())\n",
    "print(\"\\nFirst five rows of labels:\")\n",
    "print(labels_df.head())"
   ]
  },
  {
   "cell_type": "markdown",
   "id": "a34ae5c1",
   "metadata": {},
   "source": [
    "### Merging the Data\n",
    "\n",
    "Both datasets share a unique identifier (`id`). We merge them so that our feature and target information are in one DataFrame."
   ]
  },
  {
   "cell_type": "code",
   "execution_count": 3,
   "id": "04b7dd77",
   "metadata": {},
   "outputs": [
    {
     "name": "stdout",
     "output_type": "stream",
     "text": [
      "Merged dataset shape: (59400, 41)\n",
      "\n",
      "Merged data preview:\n",
      "      id  amount_tsh date_recorded        funder  gps_height     installer  \\\n",
      "0  69572      6000.0    2011-03-14         Roman        1390         Roman   \n",
      "1   8776         0.0    2013-03-06       Grumeti        1399       GRUMETI   \n",
      "2  34310        25.0    2013-02-25  Lottery Club         686  World vision   \n",
      "3  67743         0.0    2013-01-28        Unicef         263        UNICEF   \n",
      "4  19728         0.0    2011-07-13   Action In A           0       Artisan   \n",
      "\n",
      "   longitude   latitude              wpt_name  num_private  ... water_quality  \\\n",
      "0  34.938093  -9.856322                  none            0  ...          soft   \n",
      "1  34.698766  -2.147466              Zahanati            0  ...          soft   \n",
      "2  37.460664  -3.821329           Kwa Mahundi            0  ...          soft   \n",
      "3  38.486161 -11.155298  Zahanati Ya Nanyumbu            0  ...          soft   \n",
      "4  31.130847  -1.825359               Shuleni            0  ...          soft   \n",
      "\n",
      "  quality_group      quantity  quantity_group                source  \\\n",
      "0          good        enough          enough                spring   \n",
      "1          good  insufficient    insufficient  rainwater harvesting   \n",
      "2          good        enough          enough                   dam   \n",
      "3          good           dry             dry           machine dbh   \n",
      "4          good      seasonal        seasonal  rainwater harvesting   \n",
      "\n",
      "            source_type source_class              waterpoint_type  \\\n",
      "0                spring  groundwater           communal standpipe   \n",
      "1  rainwater harvesting      surface           communal standpipe   \n",
      "2                   dam      surface  communal standpipe multiple   \n",
      "3              borehole  groundwater  communal standpipe multiple   \n",
      "4  rainwater harvesting      surface           communal standpipe   \n",
      "\n",
      "  waterpoint_type_group    status_group  \n",
      "0    communal standpipe      functional  \n",
      "1    communal standpipe      functional  \n",
      "2    communal standpipe      functional  \n",
      "3    communal standpipe  non functional  \n",
      "4    communal standpipe      functional  \n",
      "\n",
      "[5 rows x 41 columns]\n"
     ]
    }
   ],
   "source": [
    "# Merge the datasets on 'id'\n",
    "merged_df = pd.merge(features_df, labels_df, on='id', how='inner')\n",
    "print(\"Merged dataset shape:\", merged_df.shape)\n",
    "print(\"\\nMerged data preview:\")\n",
    "print(merged_df.head())"
   ]
  },
  {
   "cell_type": "markdown",
   "id": "4328d531",
   "metadata": {},
   "source": [
    "## 2. Data Preparation\n",
    "\n",
    "This section covers the cleaning and transformation steps needed to prepare the data for modeling.\n",
    "\n",
    "**Steps:**\n",
    "- Drop non-predictive columns (e.g., the ID and observation date if they are not useful).\n",
    "- Convert date fields and derive new features (e.g., calculate well age from the installation date).\n",
    "- Replace implausible zero values in numeric fields with NaN.\n",
    "- Recode the target variable (`status_group`) from text to numerical codes.\n",
    "\n",
    "Adjust these steps as needed to match your data dictionary."
   ]
  },
  {
   "cell_type": "code",
   "execution_count": 4,
   "id": "bc3a31fa",
   "metadata": {},
   "outputs": [
    {
     "name": "stdout",
     "output_type": "stream",
     "text": [
      "Cleaned data info:\n",
      "<class 'pandas.core.frame.DataFrame'>\n",
      "RangeIndex: 59400 entries, 0 to 59399\n",
      "Data columns (total 39 columns):\n",
      " #   Column                 Non-Null Count  Dtype  \n",
      "---  ------                 --------------  -----  \n",
      " 0   amount_tsh             17761 non-null  float64\n",
      " 1   funder                 55763 non-null  object \n",
      " 2   gps_height             38962 non-null  float64\n",
      " 3   installer              55745 non-null  object \n",
      " 4   longitude              59400 non-null  float64\n",
      " 5   latitude               59400 non-null  float64\n",
      " 6   wpt_name               59398 non-null  object \n",
      " 7   num_private            59400 non-null  int64  \n",
      " 8   basin                  59400 non-null  object \n",
      " 9   subvillage             59029 non-null  object \n",
      " 10  region                 59400 non-null  object \n",
      " 11  region_code            59400 non-null  int64  \n",
      " 12  district_code          59400 non-null  int64  \n",
      " 13  lga                    59400 non-null  object \n",
      " 14  ward                   59400 non-null  object \n",
      " 15  population             59400 non-null  int64  \n",
      " 16  public_meeting         56066 non-null  object \n",
      " 17  recorded_by            59400 non-null  object \n",
      " 18  scheme_management      55522 non-null  object \n",
      " 19  scheme_name            30590 non-null  object \n",
      " 20  permit                 56344 non-null  object \n",
      " 21  construction_year      59400 non-null  int64  \n",
      " 22  extraction_type        59400 non-null  object \n",
      " 23  extraction_type_group  59400 non-null  object \n",
      " 24  extraction_type_class  59400 non-null  object \n",
      " 25  management             59400 non-null  object \n",
      " 26  management_group       59400 non-null  object \n",
      " 27  payment                59400 non-null  object \n",
      " 28  payment_type           59400 non-null  object \n",
      " 29  water_quality          59400 non-null  object \n",
      " 30  quality_group          59400 non-null  object \n",
      " 31  quantity               59400 non-null  object \n",
      " 32  quantity_group         59400 non-null  object \n",
      " 33  source                 59400 non-null  object \n",
      " 34  source_type            59400 non-null  object \n",
      " 35  source_class           59400 non-null  object \n",
      " 36  waterpoint_type        59400 non-null  object \n",
      " 37  waterpoint_type_group  59400 non-null  object \n",
      " 38  status_group           59400 non-null  int64  \n",
      "dtypes: float64(4), int64(6), object(29)\n",
      "memory usage: 17.7+ MB\n",
      "None\n"
     ]
    },
    {
     "name": "stderr",
     "output_type": "stream",
     "text": [
      "C:\\Users\\iyamu\\AppData\\Local\\Temp\\ipykernel_29592\\1075312022.py:16: FutureWarning: Downcasting behavior in `replace` is deprecated and will be removed in a future version. To retain the old behavior, explicitly call `result.infer_objects(copy=False)`. To opt-in to the future behavior, set `pd.set_option('future.no_silent_downcasting', True)`\n",
      "  merged_df['status_group'] = merged_df['status_group'].replace(target_mapping)\n"
     ]
    }
   ],
   "source": [
    "# Drop columns not needed for modeling\n",
    "cols_to_drop = ['id', 'date_recorded']  # Adjust if necessary\n",
    "merged_df.drop(columns=[col for col in cols_to_drop if col in merged_df.columns], inplace=True)\n",
    "\n",
    "# If 'installation_date' exists, convert it to datetime and create a 'well_age' feature\n",
    "if 'installation_date' in merged_df.columns:\n",
    "    merged_df['installation_date'] = pd.to_datetime(merged_df['installation_date'], errors='coerce')\n",
    "    merged_df['well_age'] = (pd.to_datetime('today') - merged_df['installation_date']).dt.days // 365\n",
    "\n",
    "# Replace 0 values in numeric columns with NaN\n",
    "numeric_replacements = {'amount_tsh': {0: np.nan}, 'gps_height': {0: np.nan}}\n",
    "merged_df.replace(numeric_replacements, inplace=True)\n",
    "\n",
    "# Recode target variable: map 'non functional' -> 0, 'functional' -> 1, 'functional needs repair' -> 2\n",
    "target_mapping = {'non functional': 0, 'functional': 1, 'functional needs repair': 2}\n",
    "merged_df['status_group'] = merged_df['status_group'].replace(target_mapping)\n",
    "\n",
    "# Check cleaned data summary\n",
    "print(\"Cleaned data info:\")\n",
    "print(merged_df.info())"
   ]
  },
  {
   "cell_type": "markdown",
   "id": "f48fc6de",
   "metadata": {},
   "source": [
    "### Feature Engineering\n",
    "\n",
    "Based on the data dictionary, we separate our predictors into three groups:\n",
    "- **Numeric features:** e.g., `amount_tsh`, `gps_height`, `longitude`, `latitude`, `population`, and `well_age` (if available).\n",
    "- **Categorical features:** e.g., `funder`, `installer`, `basin`, `subvillage`, `region`, `region_code`, `district_code`, `lga`, `ward`, `scheme_management`, `construction_year`, `extraction_type_group`, `management`, `payment_type`, `water_quality`, `quantity`, `source`, `waterpoint_type`.\n",
    "- **Binary features:** e.g., `public_meeting`, `permit`.\n",
    "\n",
    "You may modify these lists based on your specific data."
   ]
  },
  {
   "cell_type": "code",
   "execution_count": null,
   "id": "d8a485f6",
   "metadata": {},
   "outputs": [],
   "source": [
    "# Define feature lists \n",
    "num_features = ['amount_tsh', 'gps_height', 'longitude', 'latitude', 'population']\n",
    "if 'well_age' in merged_df.columns:\n",
    "    num_features.append('well_age')\n",
    "\n",
    "cat_features = ['funder', 'installer', 'basin', 'subvillage', 'region',\n",
    "                'region_code', 'district_code', 'lga', 'ward',\n",
    "                'scheme_management', 'construction_year', 'extraction_type_group',\n",
    "                'management', 'payment_type', 'water_quality', 'quantity',\n",
    "                'source', 'waterpoint_type']\n",
    "\n",
    "bin_features = ['public_meeting', 'permit']"
   ]
  },
  {
   "cell_type": "markdown",
   "id": "d56d7f6d",
   "metadata": {},
   "source": [
    "### Preprocessing Pipelines\n",
    "\n",
    "We now create pipelines for each group of features:\n",
    "- **Numeric Pipeline:** Impute missing values (using mean) and scale the features.\n",
    "- **Categorical Pipeline:** Impute missing values (using the most frequent value) and one-hot encode.\n",
    "- **Binary Pipeline:** Impute missing values (using the most frequent value).\n",
    "\n",
    "Finally, we combine these pipelines with a `ColumnTransformer`."
   ]
  },
  {
   "cell_type": "code",
   "execution_count": 6,
   "id": "a9d28d48",
   "metadata": {},
   "outputs": [],
   "source": [
    "# Build the numeric pipeline\n",
    "num_pipeline = Pipeline([\n",
    "    ('imputer', SimpleImputer(strategy='mean', add_indicator=True)),\n",
    "    ('scaler', StandardScaler())\n",
    "])\n",
    "\n",
    "# Build the categorical pipeline\n",
    "cat_pipeline = Pipeline([\n",
    "    ('imputer', SimpleImputer(strategy='most_frequent', add_indicator=True)),\n",
    "    ('encoder', OneHotEncoder(sparse_output=True, handle_unknown='ignore'))\n",
    "])\n",
    "\n",
    "# Build the binary pipeline\n",
    "bin_pipeline = Pipeline([\n",
    "    ('imputer', SimpleImputer(strategy='most_frequent', add_indicator=True))\n",
    "])\n",
    "\n",
    "# Combine the pipelines into a ColumnTransformer\n",
    "preprocessor = ColumnTransformer(transformers=[\n",
    "    ('num', num_pipeline, num_features),\n",
    "    ('cat', cat_pipeline, cat_features),\n",
    "    ('bin', bin_pipeline, bin_features)\n",
    "])"
   ]
  },
  {
   "cell_type": "markdown",
   "id": "c97a5e9b",
   "metadata": {},
   "source": [
    "## 3. Modeling\n",
    "\n",
    "We now split the data into training and testing sets and build our models.\n",
    "\n",
    "### Train-Test Split"
   ]
  },
  {
   "cell_type": "code",
   "execution_count": 7,
   "id": "6d51f91e",
   "metadata": {},
   "outputs": [
    {
     "name": "stdout",
     "output_type": "stream",
     "text": [
      "Training set shape: (47520, 38)\n",
      "Test set shape: (11880, 38)\n"
     ]
    }
   ],
   "source": [
    "# Define predictors and target\n",
    "target_var = 'status_group'\n",
    "X = merged_df.drop(target_var, axis=1)\n",
    "y = merged_df[target_var]\n",
    "\n",
    "# Split the data into training and testing sets\n",
    "X_train, X_test, y_train, y_test = train_test_split(X, y, test_size=0.2, random_state=RANDOM_STATE)\n",
    "print(\"Training set shape:\", X_train.shape)\n",
    "print(\"Test set shape:\", X_test.shape)"
   ]
  },
  {
   "cell_type": "markdown",
   "id": "b2a08495",
   "metadata": {},
   "source": [
    "### Baseline Model: Logistic Regression"
   ]
  },
  {
   "cell_type": "code",
   "execution_count": 8,
   "id": "4d5920d0",
   "metadata": {},
   "outputs": [
    {
     "name": "stdout",
     "output_type": "stream",
     "text": [
      "Baseline Logistic Regression Evaluation:\n",
      "              precision    recall  f1-score   support\n",
      "\n",
      "           0       0.82      0.75      0.78      4572\n",
      "           1       0.78      0.89      0.84      6457\n",
      "           2       0.64      0.26      0.37       851\n",
      "\n",
      "    accuracy                           0.79     11880\n",
      "   macro avg       0.75      0.63      0.66     11880\n",
      "weighted avg       0.79      0.79      0.78     11880\n",
      "\n",
      "Confusion Matrix:\n",
      "[[3420 1109   43]\n",
      " [ 601 5772   84]\n",
      " [ 149  480  222]]\n"
     ]
    }
   ],
   "source": [
    "# Build the baseline Logistic Regression pipeline\n",
    "baseline_pipeline = Pipeline([\n",
    "    ('preprocessor', preprocessor),\n",
    "    ('classifier', LogisticRegression(max_iter=1000, solver='liblinear'))\n",
    "])\n",
    "\n",
    "# Train the baseline model\n",
    "baseline_pipeline.fit(X_train, y_train)\n",
    "\n",
    "# Make predictions on the test set\n",
    "baseline_preds = baseline_pipeline.predict(X_test)\n",
    "\n",
    "print(\"Baseline Logistic Regression Evaluation:\")\n",
    "print(classification_report(y_test, baseline_preds))\n",
    "print(\"Confusion Matrix:\")\n",
    "print(confusion_matrix(y_test, baseline_preds))"
   ]
  },
  {
   "cell_type": "markdown",
   "id": "cdab32f6",
   "metadata": {},
   "source": [
    "### Advanced Model: Random Forest with Randomized Search\n",
    "\n",
    "To speed up tuning, we use RandomizedSearchCV with a small parameter space."
   ]
  },
  {
   "cell_type": "code",
   "execution_count": 9,
   "id": "07d272ed",
   "metadata": {},
   "outputs": [
    {
     "name": "stdout",
     "output_type": "stream",
     "text": [
      "Fitting 3 folds for each of 3 candidates, totalling 9 fits\n",
      "Randomized Search Best Parameters:\n",
      "{'classifier__n_estimators': 200, 'classifier__max_depth': None}\n",
      "\n",
      "Tuned Random Forest Evaluation:\n",
      "              precision    recall  f1-score   support\n",
      "\n",
      "           0       0.83      0.79      0.81      4572\n",
      "           1       0.81      0.88      0.84      6457\n",
      "           2       0.53      0.35      0.42       851\n",
      "\n",
      "    accuracy                           0.80     11880\n",
      "   macro avg       0.72      0.67      0.69     11880\n",
      "weighted avg       0.80      0.80      0.80     11880\n",
      "\n",
      "Confusion Matrix:\n",
      "[[3594  890   88]\n",
      " [ 614 5666  177]\n",
      " [ 132  422  297]]\n"
     ]
    }
   ],
   "source": [
    "from sklearn.model_selection import RandomizedSearchCV\n",
    "\n",
    "# Define parameter distributions\n",
    "param_distributions = {\n",
    "    'classifier__n_estimators': [100, 200, 300],\n",
    "    'classifier__max_depth': [None, 10, 20]\n",
    "}\n",
    "\n",
    "# Build the Random Forest pipeline (with the same preprocessor)\n",
    "rf_pipeline = Pipeline([\n",
    "    ('preprocessor', preprocessor),\n",
    "    ('classifier', RandomForestClassifier(random_state=RANDOM_STATE, class_weight='balanced'))\n",
    "])\n",
    "\n",
    "# Set up RandomizedSearchCV (3 iterations, 3-fold CV)\n",
    "random_search = RandomizedSearchCV(\n",
    "    rf_pipeline,\n",
    "    param_distributions=param_distributions,\n",
    "    n_iter=3,\n",
    "    cv=3,\n",
    "    scoring='f1_macro',\n",
    "    n_jobs=2,\n",
    "    verbose=2,\n",
    "    random_state=RANDOM_STATE\n",
    ")\n",
    "\n",
    "# Fit the randomized search on the training data\n",
    "random_search.fit(X_train, y_train)\n",
    "\n",
    "# Retrieve the best model and evaluate it\n",
    "best_rf_random = random_search.best_estimator_\n",
    "rf_random_preds = best_rf_random.predict(X_test)\n",
    "\n",
    "print(\"Randomized Search Best Parameters:\")\n",
    "print(random_search.best_params_)\n",
    "print(\"\\nTuned Random Forest Evaluation:\")\n",
    "print(classification_report(y_test, rf_random_preds))\n",
    "print(\"Confusion Matrix:\")\n",
    "print(confusion_matrix(y_test, rf_random_preds))"
   ]
  },
  {
   "cell_type": "markdown",
   "id": "14c6a3e5",
   "metadata": {},
   "source": [
    "## 4. Model Evaluation and Analysis\n",
    "\n",
    "To compare model performance, we define a custom evaluation class that:\n",
    "- Summarizes training and validation accuracy and loss\n",
    "- Performs cross-validation\n",
    "- Plots confusion matrices for error analysis"
   ]
  },
  {
   "cell_type": "code",
   "execution_count": 10,
   "id": "22ad1d92",
   "metadata": {},
   "outputs": [
    {
     "name": "stdout",
     "output_type": "stream",
     "text": [
      "Model: Baseline Logistic Regression\n",
      "Training Accuracy: 85.19%\n",
      "Training Loss: 0.39\n",
      "Validation Accuracy: 80.22%\n",
      "Validation Loss: 0.50\n",
      "Baseline Logistic Regression CV Accuracy: 0.7828 ± 0.0025\n"
     ]
    },
    {
     "data": {
      "image/png": "[encoded data removed]",
      "text/plain": [
       "<Figure size 600x600 with 2 Axes>"
      ]
     },
     "metadata": {},
     "output_type": "display_data"
    },
    {
     "name": "stdout",
     "output_type": "stream",
     "text": [
      "Model: Tuned Random Forest\n",
      "Training Accuracy: 99.97%\n",
      "Training Loss: 0.12\n",
      "Validation Accuracy: 84.36%\n",
      "Validation Loss: 0.51\n",
      "Tuned Random Forest CV Accuracy: 0.8000 ± 0.0012\n"
     ]
    },
    {
     "data": {
      "image/png": "[encoded data removed]",
      "text/plain": [
       "<Figure size 600x600 with 2 Axes>"
      ]
     },
     "metadata": {},
     "output_type": "display_data"
    }
   ],
   "source": [
    "# Define a custom evaluator class\n",
    "class Evaluator:\n",
    "    def __init__(self, model, model_name, X, y):\n",
    "        self.model = model\n",
    "        self.name = model_name\n",
    "        self.X_train, self.X_val, self.y_train, self.y_val = train_test_split(X, y, random_state=RANDOM_STATE)\n",
    "        self.train_acc = model.score(self.X_train, self.y_train)\n",
    "        self.val_acc = model.score(self.X_val, self.y_val)\n",
    "        self.train_loss = log_loss(self.y_train, model.predict_proba(self.X_train))\n",
    "        self.val_loss = log_loss(self.y_val, model.predict_proba(self.X_val))\n",
    "    \n",
    "    def show_summary(self):\n",
    "        summary = (f\"Model: {self.name}\\n\"\n",
    "                   f\"Training Accuracy: {self.train_acc:.2%}\\n\"\n",
    "                   f\"Training Loss: {self.train_loss:.2f}\\n\"\n",
    "                   f\"Validation Accuracy: {self.val_acc:.2%}\\n\"\n",
    "                   f\"Validation Loss: {self.val_loss:.2f}\")\n",
    "        print(summary)\n",
    "        \n",
    "    def cross_validate(self, folds=3):\n",
    "        cv_scores = cross_val_score(self.model, self.X_train, self.y_train, cv=folds)\n",
    "        print(f\"{self.name} CV Accuracy: {np.mean(cv_scores):.4f} ± {np.std(cv_scores):.4f}\")\n",
    "        \n",
    "    def plot_confusion(self):\n",
    "        preds = self.model.predict(self.X_val)\n",
    "        cm = confusion_matrix(self.y_val, preds)\n",
    "        plt.figure(figsize=(6,6))\n",
    "        sns.heatmap(cm, annot=True, fmt=\"d\", cmap=\"Blues\")\n",
    "        plt.title(f\"Confusion Matrix: {self.name}\")\n",
    "        plt.xlabel(\"Predicted\")\n",
    "        plt.ylabel(\"True\")\n",
    "        plt.show()\n",
    "\n",
    "# Evaluate the baseline model\n",
    "baseline_eval = Evaluator(baseline_pipeline, \"Baseline Logistic Regression\", X, y)\n",
    "baseline_eval.show_summary()\n",
    "baseline_eval.cross_validate()\n",
    "baseline_eval.plot_confusion()\n",
    "\n",
    "# Evaluate the tuned Random Forest model\n",
    "rf_eval = Evaluator(best_rf_random, \"Tuned Random Forest\", X, y)\n",
    "rf_eval.show_summary()\n",
    "rf_eval.cross_validate()\n",
    "rf_eval.plot_confusion()"
   ]
  },
  {
   "cell_type": "markdown",
   "id": "b5f3f9ea",
   "metadata": {},
   "source": [
    "## 5. Conclusions and Recommendations\n",
    "\n",
    "**Summary of Findings:**\n",
    "- The baseline Logistic Regression model provided a simple, interpretable benchmark.\n",
    "- The advanced Random Forest model (tuned via RandomizedSearchCV) improved overall performance, achieving higher F1 scores and more balanced recalls.\n",
    "\n",
    "**Implications for Stakeholders:**\n",
    "- **NGOs (e.g., WaterAid):** The model can guide repair efforts by identifying wells that are non-functional or need repair.\n",
    "- **Government Agencies:** Insights from the analysis can inform future water infrastructure planning and resource allocation.\n",
    "\n",
    "**Future Work:**\n",
    "- Further feature engineering (e.g., spatial interactions) could boost performance.\n",
    "- Experiment with additional modeling techniques or ensemble methods.\n",
    "- Develop an interactive dashboard for real-time monitoring and decision support.\n",
    "\n"
   ]
  }
 ],
 "metadata": {
  "kernelspec": {
   "display_name": "Python 3",
   "language": "python",
   "name": "python3"
  },
  "language_info": {
   "codemirror_mode": {
    "name": "ipython",
    "version": 3
   },
   "file_extension": ".py",
   "mimetype": "text/x-python",
   "name": "python",
   "nbconvert_exporter": "python",
   "pygments_lexer": "ipython3",
   "version": "3.12.9"
  }
 },
 "nbformat": 4,
 "nbformat_minor": 5
}
